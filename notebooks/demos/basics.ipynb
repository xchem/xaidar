{
 "cells": [
  {
   "cell_type": "markdown",
   "id": "5b45b6ab",
   "metadata": {},
   "source": [
    "### Basics"
   ]
  },
  {
   "cell_type": "code",
   "execution_count": null,
   "id": "7a7e56ad",
   "metadata": {},
   "outputs": [],
   "source": [
    "from pathlib import Path\n",
    "import sys\n",
    "sys.path.append( Path( \"../..\" ).resolve() )"
   ]
  },
  {
   "cell_type": "markdown",
   "id": "814ec5ec",
   "metadata": {},
   "source": [
    "Add key to decrypt pickle file with S3 credentials into your environment beforehand as `CRED_KEY`"
   ]
  },
  {
   "cell_type": "code",
   "execution_count": null,
   "id": "b7c1e827",
   "metadata": {},
   "outputs": [],
   "source": [
    "import os\n",
    "credKey = os.getenv( \"CRED_KEY\" ) "
   ]
  },
  {
   "cell_type": "markdown",
   "id": "8068acf3",
   "metadata": {
    "vscode": {
     "languageId": "plaintext"
    }
   },
   "source": [
    "### Access S3 Objects"
   ]
  },
  {
   "cell_type": "code",
   "execution_count": 5,
   "id": "8626a8e7",
   "metadata": {},
   "outputs": [
    {
     "name": "stdout",
     "output_type": "stream",
     "text": [
      "Object Store Names:['XChem', 'MinIO']\n",
      "Credentials Associated with each Object Store: ['endpoint_url', 'access_key', 'secret_key']\n"
     ]
    }
   ],
   "source": [
    "from xaidar.s3Utils import decryptCredentials, initialize\n",
    "\n",
    "credPath =  Path( \"../../credentials.enc\").resolve()\n",
    "credDict = decryptCredentials( credKey, credPath )"
   ]
  },
  {
   "cell_type": "code",
   "execution_count": null,
   "id": "0f05fcf0",
   "metadata": {},
   "outputs": [],
   "source": [
    "client = initialize( \"XChem\", cred_dict=credDict)"
   ]
  }
 ],
 "metadata": {
  "kernelspec": {
   "display_name": ".venv",
   "language": "python",
   "name": "python3"
  },
  "language_info": {
   "codemirror_mode": {
    "name": "ipython",
    "version": 3
   },
   "file_extension": ".py",
   "mimetype": "text/x-python",
   "name": "python",
   "nbconvert_exporter": "python",
   "pygments_lexer": "ipython3",
   "version": "3.11.5"
  }
 },
 "nbformat": 4,
 "nbformat_minor": 5
}
