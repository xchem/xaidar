{
 "cells": [
  {
   "cell_type": "markdown",
   "id": "5b45b6ab",
   "metadata": {},
   "source": [
    "# <p align=\"center\"> Secure Access of Object Store </p>\n",
    "\n",
    "It is essential to develop a safe protocol to access the object store. To do this I have developed the following work-flow:\n",
    "\n",
    "**Encryption**\n",
    "\n",
    "- Created a python dictionary object which saves the endpoint url, the access key and the secret key for the XChem object Store and a public available object store for practice (MinIO)\n",
    "\n",
    "    <details>  <summary>    Dictionary Structure</summary>\n",
    "\n",
    "    ```{python}\n",
    "    { \"XChem\":{\n",
    "                \"endpoint_url\": xxxx,\n",
    "                \"access_key\": xxxx,\n",
    "                \"secret_key\": xxxx,\n",
    "                },\n",
    "    \"MinIO\":{\n",
    "            \"endpoint_url\": xxxx,\n",
    "                \"access_key\": xxxx,\n",
    "                \"secret_key\": xxxx,\n",
    "                },   \n",
    "    }\n",
    "    ```\n",
    "\n",
    "    </details>\n",
    "<p></p>\n",
    "\n",
    "- Convert dictionary into a serialized object (.json)\n",
    "- Generate a random key and use it to encrypt the json object with a fernet key with cryptography.fernet python package into `.enc` .\n",
    "- Save the encrypted object into a python pickle file. This encryption avoids the presence of the secret key in a plain file at any time.\n",
    "- Use [git secret]( https://sobolevn.me/git-secret/ ) to further encrypt the file into `.enc.secret`. This gets shared in the github, while the decrypted only remains locally.\n",
    "\n",
    "**Decryption**\n",
    "\n",
    "- Install git secrets locally. Generate a gpg public and private key. Share the gpg public key and associated email with the github repo owner.\n",
    "- Wait for updated re-encryption of `.enc.secret` file.\n",
    "- Download file and decrypt it using `git secret reveal`.\n",
    "- Load your fernel key into memory. Use `xaidar.s3Utils.decryptCredentials` to decrypt dictionary.\n",
    "- Use dictionary values to access object store. Note, never print or show any key in your terminal."
   ]
  },
  {
   "cell_type": "code",
   "execution_count": null,
   "id": "f8daf0bc",
   "metadata": {},
   "outputs": [],
   "source": [
    "print(\"test\")"
   ]
  },
  {
   "cell_type": "code",
   "execution_count": null,
   "id": "7a7e56ad",
   "metadata": {},
   "outputs": [],
   "source": [
    "from pathlib import Path\n",
    "import sys\n",
    "sys.path.append( Path( \"../..\" ).resolve() )"
   ]
  },
  {
   "cell_type": "markdown",
   "id": "814ec5ec",
   "metadata": {},
   "source": [
    "Add key to decrypt pickle file with S3 credentials into your environment beforehand as `CRED_KEY`"
   ]
  },
  {
   "cell_type": "code",
   "execution_count": null,
   "id": "b7c1e827",
   "metadata": {},
   "outputs": [],
   "source": [
    "import os\n",
    "credKey = os.getenv( \"CRED_KEY\" ) "
   ]
  },
  {
   "cell_type": "markdown",
   "id": "8068acf3",
   "metadata": {
    "vscode": {
     "languageId": "plaintext"
    }
   },
   "source": [
    "### Access S3 Objects"
   ]
  },
  {
   "cell_type": "code",
   "execution_count": 5,
   "id": "8626a8e7",
   "metadata": {},
   "outputs": [
    {
     "name": "stdout",
     "output_type": "stream",
     "text": [
      "Object Store Names:['XChem', 'MinIO']\n",
      "Credentials Associated with each Object Store: ['endpoint_url', 'access_key', 'secret_key']\n"
     ]
    }
   ],
   "source": [
    "from xaidar.s3Utils import decryptCredentials, initialize\n",
    "\n",
    "credPath =  Path( \"../../credentials.enc\").resolve()\n",
    "credDict = decryptCredentials( credKey, credPath )"
   ]
  },
  {
   "cell_type": "code",
   "execution_count": null,
   "id": "0f05fcf0",
   "metadata": {},
   "outputs": [],
   "source": [
    "client = initialize( \"XChem\", cred_dict=credDict)"
   ]
  }
 ],
 "metadata": {
  "kernelspec": {
   "display_name": ".venv",
   "language": "python",
   "name": "python3"
  },
  "language_info": {
   "codemirror_mode": {
    "name": "ipython",
    "version": 3
   },
   "file_extension": ".py",
   "mimetype": "text/x-python",
   "name": "python",
   "nbconvert_exporter": "python",
   "pygments_lexer": "ipython3",
   "version": "3.11.12"
  }
 },
 "nbformat": 4,
 "nbformat_minor": 5
}
