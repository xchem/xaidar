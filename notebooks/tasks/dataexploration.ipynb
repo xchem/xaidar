{
 "cells": [
  {
   "cell_type": "markdown",
   "metadata": {},
   "source": [
    "# <p style=\"text-align:center\"> Data Exploration</p>"
   ]
  },
  {
   "cell_type": "code",
   "execution_count": null,
   "metadata": {},
   "outputs": [],
   "source": [
    "import sys\n",
    "sys.path.append(\"..\")"
   ]
  },
  {
   "cell_type": "markdown",
   "metadata": {},
   "source": [
    "---\n",
    "### 2015_lb13320-1 : Lots of Data "
   ]
  },
  {
   "cell_type": "code",
   "execution_count": 36,
   "metadata": {},
   "outputs": [],
   "source": [
    "import os\n",
    "\n",
    "from scripts.filesUtils import loadPickle\n",
    "from scripts.objFileSys import viewSubtree\n",
    "\n",
    "treeDic = loadPickle( os.path.join( \"output\", \"ObjectStore\", \"XChem\", \"PerProj\",\"data\",\"tree\",\"tree_2015_lb13320-1.pkl\"))\n",
    "\n"
   ]
  },
  {
   "cell_type": "code",
   "execution_count": null,
   "metadata": {},
   "outputs": [
    {
     "name": "stdout",
     "output_type": "stream",
     "text": [
      "data\n",
      "└── 2015\n",
      "    └── lb13320-1\n",
      "        └── processing\n",
      "            └── pdb\n",
      "                ├── Lea\n",
      "                └── models_Alice\n"
     ]
    }
   ],
   "source": [
    "folderID = [ 0, 0, 0, 0, 18 ]\n",
    "viewSubtree( treeDic[\"fileTree\"], treeDic[\"foldersCount\"], 1, len(folderID) + 2, folderID = folderID, \n",
    "            viewFiles = True)"
   ]
  },
  {
   "cell_type": "code",
   "execution_count": null,
   "metadata": {},
   "outputs": [],
   "source": [
    "lstPaths = loadPickle( os.path.join( \"output\", \"ObjectStore\", \"XChem\", \"PerProj\",\"data\", \"2015_lb13320-1\"))"
   ]
  },
  {
   "cell_type": "code",
   "execution_count": null,
   "metadata": {},
   "outputs": [
    {
     "name": "stdout",
     "output_type": "stream",
     "text": [
      "[['data', '2015', 'lb13320-1', 'processing', '2018072014.txt'], ['data', '2015', 'lb13320-1', 'processing', '2018072014.txt.info.csv'], ['data', '2015', 'lb13320-1', 'processing', '2018081517.txt']]\n"
     ]
    }
   ],
   "source": [
    "import re\n",
    "lstPathParts = [ path.split(\"/\") for path in lstPaths]\n",
    "\n",
    "\n",
    "filterPaths = [ \"/\".join( pathParts) for pathParts in lstPathParts if re.search( \"$lb.+\", pathParts[4] ) ]\n"
   ]
  },
  {
   "cell_type": "code",
   "execution_count": null,
   "metadata": {},
   "outputs": [
    {
     "data": {
      "text/plain": [
       "[['data', '2015', 'lb13320-1', 'processing', '2018072014.txt'],\n",
       " ['data', '2015', 'lb13320-1', 'processing', '2018072014.txt.info.csv'],\n",
       " ['data', '2015', 'lb13320-1', 'processing', '2018081517.txt'],\n",
       " ['data', '2015', 'lb13320-1', 'processing', '2018081517.txt.info.csv'],\n",
       " ['data', '2015', 'lb13320-1', 'processing', '2019100110.txt']]"
      ]
     },
     "execution_count": 26,
     "metadata": {},
     "output_type": "execute_result"
    }
   ],
   "source": [
    "lstPathParts[:5] #[800000:800005]"
   ]
  },
  {
   "cell_type": "code",
   "execution_count": 33,
   "metadata": {},
   "outputs": [
    {
     "name": "stdout",
     "output_type": "stream",
     "text": [
      "data/2015/lb13320-1/processing/lb13320-15/processing/dimple-maps_refNoDMSONoSO4/SHH/best/all_2andhalfsigma/SHH-x1353_1_3d-run.map\n"
     ]
    }
   ],
   "source": [
    "key = \"/\".join( ['data',\n",
    "  '2015',\n",
    "  'lb13320-1',\n",
    "  'processing',\n",
    "  'lb13320-15',\n",
    "  'processing',\n",
    "  'dimple-maps_refNoDMSONoSO4',\n",
    "  'SHH',\n",
    "  'best',\n",
    "  'all_2andhalfsigma',\n",
    "  'SHH-x1353_1_3d-run.map'])\n",
    "\n",
    "# key = \"/\"+\"/\".join( ['data', '2015', 'lb13320-1', 'processing', '2018072014.txt'] )\n",
    "print( key)"
   ]
  },
  {
   "cell_type": "code",
   "execution_count": 34,
   "metadata": {},
   "outputs": [
    {
     "data": {
      "text/plain": [
       "{'ResponseMetadata': {'RequestId': 'tx000006f7d8997f7b4488a-0067e2d6a8-2ff762012-default',\n",
       "  'HostId': '',\n",
       "  'HTTPStatusCode': 200,\n",
       "  'HTTPHeaders': {'content-length': '74858304',\n",
       "   'accept-ranges': 'bytes',\n",
       "   'last-modified': 'Wed, 03 Feb 2021 03:04:14 GMT',\n",
       "   'x-rgw-object-type': 'Normal',\n",
       "   'etag': '\"8fccd1f4341cdac03c10587f85d45157\"',\n",
       "   'x-amz-meta-mtime': '1459245730',\n",
       "   'x-amz-request-id': 'tx000006f7d8997f7b4488a-0067e2d6a8-2ff762012-default',\n",
       "   'content-type': 'application/octet-stream',\n",
       "   'date': 'Tue, 25 Mar 2025 16:15:36 GMT',\n",
       "   'connection': 'Keep-Alive'},\n",
       "  'RetryAttempts': 0},\n",
       " 'AcceptRanges': 'bytes',\n",
       " 'LastModified': datetime.datetime(2021, 2, 3, 3, 4, 14, tzinfo=tzutc()),\n",
       " 'ContentLength': 74858304,\n",
       " 'ETag': '\"8fccd1f4341cdac03c10587f85d45157\"',\n",
       " 'ContentType': 'application/octet-stream',\n",
       " 'Metadata': {'mtime': '1459245730'}}"
      ]
     },
     "execution_count": 34,
     "metadata": {},
     "output_type": "execute_result"
    }
   ],
   "source": [
    "from scripts.s3Utils import initialize\n",
    "\n",
    "client = initialize( \"XChem\")\n",
    "# client.get_object_attributes( Bucket = \"xchem\", Key = key , ObjectAttributes = [\"\"])\n",
    "client.head_object( Bucket = \"xchem\", Key = key )\n"
   ]
  },
  {
   "cell_type": "markdown",
   "metadata": {},
   "source": [
    "---\n",
    "\n",
    "### 2015_lb13308-1"
   ]
  },
  {
   "cell_type": "code",
   "execution_count": 66,
   "metadata": {},
   "outputs": [],
   "source": [
    "import os\n",
    "\n",
    "from scripts.filesUtils import loadPickle\n",
    "from scripts.objFileSys import viewSubtree\n",
    "\n",
    "treeDic = loadPickle( os.path.join( \"output\", \"ObjectStore\", \"XChem\", \"PerProj\",\"data\",\"tree\",\"tree_2015_lb13308-1.pkl\"))\n",
    "\n"
   ]
  },
  {
   "cell_type": "code",
   "execution_count": 103,
   "metadata": {},
   "outputs": [
    {
     "name": "stdout",
     "output_type": "stream",
     "text": [
      "data\n",
      "└── 2015\n",
      "    └── lb13308-1\n",
      "        └── processing\n",
      "            └── old_processing_prior_to_20160520\n",
      "                └── analysis\n",
      "                    └── dimple-maps\n",
      "                        └── KRASQ61\n",
      "                            └── KRASQ61-x100\n",
      "                                └── KRASQ61-x100_1_3d-run\n",
      "                                    ├── 01-rwcontents.log\n",
      "                                    ├── 02-pointless.log\n",
      "                                    ├── 03-refmac5_rigid.log\n",
      "                                    ├── 04-unique.log\n",
      "                                    ├── 05-freerflag.log\n",
      "                                    ├── 06-cad.log\n",
      "                                    ├── 07-refmac5_jelly.log\n",
      "                                    ├── 08-refmac5_restr.log\n",
      "                                    ├── 09-find-blobs.log\n",
      "                                    ├── coot.sh\n",
      "                                    ├── dimple.log\n",
      "                                    ├── final.mtz\n",
      "                                    ├── final.pdb\n",
      "                                    ├── ini.pdb\n",
      "                                    ├── run-coot.py\n",
      "                                    ├── screen.log\n",
      "                                    └── workflow.pickle\n"
     ]
    }
   ],
   "source": [
    "folderID = [ 0, 0, 0, 0, 2, 0, 0, 0, 0, 0 ]\n",
    "paths = viewSubtree( treeDic[\"fileTree\"], treeDic[\"foldersCount\"], 1, len(folderID) + 2, folderID = folderID, \n",
    "            viewFiles = True, getFilePathS = True)\n",
    "\n"
   ]
  },
  {
   "cell_type": "code",
   "execution_count": 115,
   "metadata": {},
   "outputs": [
    {
     "data": {
      "text/plain": [
       "'data/2015/lb13308-1/processing/old_processing_prior_to_20160520/analysis/dimple-maps/KRASQ61/KRASQ61-x100/KRASQ61-x100_1_3d-run/final.pdb'"
      ]
     },
     "execution_count": 115,
     "metadata": {},
     "output_type": "execute_result"
    }
   ],
   "source": [
    "paths[-5]"
   ]
  },
  {
   "cell_type": "code",
   "execution_count": 110,
   "metadata": {},
   "outputs": [],
   "source": [
    "client = initialize( \"XChem\")\n",
    "client.download_file( \"xchem\", paths[-6], os.path.join( \"data\", \"test2.txt\" )  )\n",
    "# data = client.get_object( Bucket = \"xchem\", Key = paths[-1] ) # not great for objects \n",
    "# print(data[\"Body\"])"
   ]
  },
  {
   "cell_type": "code",
   "execution_count": 111,
   "metadata": {},
   "outputs": [
    {
     "ename": "UnpicklingError",
     "evalue": "invalid load key, ' '.",
     "output_type": "error",
     "traceback": [
      "\u001b[0;31m---------------------------------------------------------------------------\u001b[0m",
      "\u001b[0;31mUnpicklingError\u001b[0m                           Traceback (most recent call last)",
      "Cell \u001b[0;32mIn[111], line 5\u001b[0m\n\u001b[1;32m      2\u001b[0m \u001b[38;5;28;01mimport\u001b[39;00m\u001b[38;5;250m \u001b[39m\u001b[38;5;21;01mos\u001b[39;00m\n\u001b[1;32m      4\u001b[0m \u001b[38;5;28;01mwith\u001b[39;00m \u001b[38;5;28mopen\u001b[39m( os\u001b[38;5;241m.\u001b[39mpath\u001b[38;5;241m.\u001b[39mjoin( \u001b[38;5;124m\"\u001b[39m\u001b[38;5;124mdata\u001b[39m\u001b[38;5;124m\"\u001b[39m, \u001b[38;5;124m\"\u001b[39m\u001b[38;5;124mtest2.txt\u001b[39m\u001b[38;5;124m\"\u001b[39m), \u001b[38;5;124m\"\u001b[39m\u001b[38;5;124mrb\u001b[39m\u001b[38;5;124m\"\u001b[39m ) \u001b[38;5;28;01mas\u001b[39;00m f:\n\u001b[0;32m----> 5\u001b[0m     workflow \u001b[38;5;241m=\u001b[39m \u001b[43mpickle\u001b[49m\u001b[38;5;241;43m.\u001b[39;49m\u001b[43mload\u001b[49m\u001b[43m(\u001b[49m\u001b[43m \u001b[49m\u001b[43mf\u001b[49m\u001b[43m \u001b[49m\u001b[43m)\u001b[49m\n\u001b[1;32m      7\u001b[0m \u001b[38;5;28mprint\u001b[39m( \u001b[38;5;28mtype\u001b[39m( workflow) )\n",
      "\u001b[0;31mUnpicklingError\u001b[0m: invalid load key, ' '."
     ]
    }
   ],
   "source": [
    "import pickle\n",
    "import os\n",
    "\n",
    "with open( os.path.join( \"data\", \"test2.txt\"), \"rb\" ) as f:\n",
    "    workflow = pickle.load( f )\n",
    "\n",
    "print( type( workflow) )"
   ]
  },
  {
   "cell_type": "code",
   "execution_count": null,
   "metadata": {},
   "outputs": [],
   "source": []
  },
  {
   "cell_type": "markdown",
   "metadata": {},
   "source": [
    "---\n",
    "\n",
    "### 2015_lb13379-1"
   ]
  },
  {
   "cell_type": "code",
   "execution_count": 3,
   "metadata": {},
   "outputs": [],
   "source": [
    "import os\n",
    "\n",
    "from scripts.filesUtils import loadPickle\n",
    "from scripts.objFileSys import viewSubtree\n",
    "\n",
    "treeDic = loadPickle( os.path.join( \"output\", \"ObjectStore\", \"XChem\", \"PerProj\",\"data\",\"tree\",\"tree_2015_lb13379-1.pkl\" )) \n"
   ]
  },
  {
   "cell_type": "code",
   "execution_count": null,
   "metadata": {},
   "outputs": [
    {
     "name": "stdout",
     "output_type": "stream",
     "text": [
      "data\n",
      "└── 2015\n",
      "    └── lb13379-1\n",
      "        └── processing\n",
      "            └── analysis\n",
      "                ├── 040418_CFW_output_pandda\n",
      "                ├── TMP_autobuilding\n",
      "                ├── best2\n",
      "                ├── dimple-maps\n",
      "                ├── figure\n",
      "                ├── initial_model\n",
      "                ├── initial_model_bak\n",
      "                ├── library_pdb_cif\n",
      "                ├── pandda_0.4\n",
      "                ├── pandda_Mar-2016\n",
      "                ├── pandda_ORIG\n",
      "                ├── pandda_dataset_clustering\n",
      "                ├── panddas\n",
      "                ├── panddas_0.2\n",
      "                ├── panddas_0.3\n",
      "                ├── panddas_0.5\n",
      "                ├── test_pandda_original\n",
      "                ├── test_pandda_parallel\n",
      "                ├── 040418_panddatest.sh\n",
      "                ├── 040418_panddatest.sh~\n",
      "                ├── cfw_040418_panddatest.sh\n",
      "                ├── cfw_040418_panddatest.sh.e23735826\n",
      "                ├── cfw_040418_panddatest.sh.e23738428\n",
      "                ├── cfw_040418_panddatest.sh.o23735826\n",
      "                ├── cfw_040418_panddatest.sh.o23738428\n",
      "                └── pandda.sh\n"
     ]
    }
   ],
   "source": [
    "folderID = [ 0, 0, 0, 0, 1 ]\n",
    "paths = viewSubtree( treeDic[\"fileTree\"], treeDic[\"foldersCount\"], 1, len(folderID) + 2, folderID = folderID, \n",
    "            viewFiles = True, getFilePathS = True)\n",
    "\n"
   ]
  },
  {
   "cell_type": "code",
   "execution_count": null,
   "metadata": {},
   "outputs": [],
   "source": []
  }
 ],
 "metadata": {
  "kernelspec": {
   "display_name": "s3db",
   "language": "python",
   "name": "python3"
  },
  "language_info": {
   "codemirror_mode": {
    "name": "ipython",
    "version": 3
   },
   "file_extension": ".py",
   "mimetype": "text/x-python",
   "name": "python",
   "nbconvert_exporter": "python",
   "pygments_lexer": "ipython3",
   "version": "3.13.2"
  }
 },
 "nbformat": 4,
 "nbformat_minor": 2
}
