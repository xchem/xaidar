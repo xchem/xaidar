{
 "cells": [
  {
   "cell_type": "code",
   "execution_count": 1,
   "metadata": {},
   "outputs": [],
   "source": [
    "import sys\n",
    "sys.path.append( \"..\" )\n",
    "from pathlib import Path\n",
    "from sqlalchemy import create_engine, inspect\n",
    "import pandas as pd\n",
    "\n",
    "from scripts.s3Utils import decryptCredentials, initialize"
   ]
  },
  {
   "cell_type": "code",
   "execution_count": null,
   "metadata": {},
   "outputs": [],
   "source": [
    "# Create other cell and delete afterwards\n",
    "credKey = \"\""
   ]
  },
  {
   "cell_type": "code",
   "execution_count": 3,
   "metadata": {},
   "outputs": [
    {
     "name": "stdout",
     "output_type": "stream",
     "text": [
      "Object Store Names:['XChem', 'MinIO']\n",
      "Credentials Associated with each Object Store: ['endpoint_url', 'access_key', 'secret_key']\n"
     ]
    }
   ],
   "source": [
    "credPath =  Path( \"../data/credentials.enc\").resolve()\n",
    "credentialsDict = decryptCredentials( credKey, credPath)"
   ]
  },
  {
   "cell_type": "code",
   "execution_count": 15,
   "metadata": {},
   "outputs": [
    {
     "name": "stdout",
     "output_type": "stream",
     "text": [
      "Object Store Ping Response: 200\n",
      "D:\\OneDrive - University of Edinburgh\\Documents\\000-PhDCodeSpace\\XAIDA\\XAIDA\\data\\soakDBDataFile.sqlite\n",
      "Managed to download file\n"
     ]
    }
   ],
   "source": [
    "client = initialize( \"XChem\", cred_dict=credentialsDict)\n",
    "\n",
    "print( \"Object Store Ping Response: {}\".format( client.list_buckets()[\"ResponseMetadata\"][\"HTTPStatusCode\"] ) )\n",
    "\n",
    "\n",
    "key = 'data/2015/lb13320-1/processing/database/soakDBDataFile.sqlite' # 'data/2015/lb13320-1/processing/database/DataFileBackups/soakDBDataFile.sqlite' # r\"data/2015/lb13308-1/processing/database/soakDBDataFile.sqlite\\n\"\n",
    "bucket = \"xchem\"\n",
    "\n",
    "storePath = Path( r\"../data/soakDBDataFile.sqlite\").resolve()\n",
    "print(storePath)\n",
    "\n",
    "client.download_file( bucket, key, storePath )\n",
    "print( \"Managed to download file\")"
   ]
  },
  {
   "cell_type": "code",
   "execution_count": 19,
   "metadata": {},
   "outputs": [
    {
     "name": "stdout",
     "output_type": "stream",
     "text": [
      "Sqlite File Path: D:\\OneDrive - University of Edinburgh\\Documents\\000-PhDCodeSpace\\XAIDA\\XAIDA\\data\\soakDBDataFile.sqlite\n",
      "Tables in the database:\n",
      "['depositTable', 'mainTable', 'panddaTable', 'soakDB']\n"
     ]
    }
   ],
   "source": [
    "from sqlalchemy import create_engine, inspect\n",
    "import pandas as pd\n",
    "from pathlib import Path\n",
    "\n",
    "# Path to your .sqlite file\n",
    "\n",
    "sqliteFilePath = Path( \"../data/soakDBDataFile.sqlite\").resolve()\n",
    "\n",
    "print(\"Sqlite File Path: {}\".format( sqliteFilePath ) )\n",
    "# Step 1: Create an SQLAlchemy engine to connect to the SQLite database\n",
    "engine = create_engine(f\"sqlite:///{sqliteFilePath}\")\n",
    "\n",
    "# Step 2: Inspect the database to see available tables\n",
    "inspector = inspect(engine)\n",
    "tables = inspector.get_table_names()\n",
    "print(\"Tables in the database:\")\n",
    "print(tables)\n",
    "\n",
    "# Step 3: Load a specific table into a pandas DataFrame\n",
    "tables = ['depositTable', 'mainTable', 'panddaTable', 'soakDB']# ['mainTable', 'panddaTable', 'collectionTable', 'depositTable','soakDB', 'zenodoTable','Pucks', ]\n",
    "loadtable = lambda table_name : pd.read_sql(f\"SELECT * FROM {table_name}\", con=engine)\n",
    "tabledf_dict = {table_name : loadtable(table_name) for table_name in tables[:4]  }\n",
    "\n",
    "# for df in tabledf_dict.values():\n",
    "#     filter_colms = [ colm for colm in df.columns if not all( df[colm].isna() ) ]    # Show columns with data\n",
    "#     display( filter_colms)\n",
    "    # display( df] )\n",
    "# tabledf_lst = maindf, panddadf, collectdf, depoistdf \n",
    "# print(type( tabledf_dict.values()))\n",
    "\n",
    "# display( list( tabledf_dict.values() )[0].iloc[:,:3])\n",
    "\n",
    "\n",
    "\n",
    "# Step 6: Close the connection (optional, as SQLAlchemy handles it automatically)\n",
    "engine.dispose()"
   ]
  },
  {
   "cell_type": "code",
   "execution_count": 23,
   "metadata": {},
   "outputs": [
    {
     "data": {
      "text/html": [
       "<div>\n",
       "<style scoped>\n",
       "    .dataframe tbody tr th:only-of-type {\n",
       "        vertical-align: middle;\n",
       "    }\n",
       "\n",
       "    .dataframe tbody tr th {\n",
       "        vertical-align: top;\n",
       "    }\n",
       "\n",
       "    .dataframe thead th {\n",
       "        text-align: right;\n",
       "    }\n",
       "</style>\n",
       "<table border=\"1\" class=\"dataframe\">\n",
       "  <thead>\n",
       "    <tr style=\"text-align: right;\">\n",
       "      <th></th>\n",
       "      <th>ID</th>\n",
       "      <th>LabVisit</th>\n",
       "      <th>LibraryPlate</th>\n",
       "      <th>SourceWell</th>\n",
       "      <th>LibraryName</th>\n",
       "      <th>CompoundSMILES</th>\n",
       "      <th>CompoundCode</th>\n",
       "      <th>CrystalPlate</th>\n",
       "      <th>CrystalWell</th>\n",
       "      <th>EchoX</th>\n",
       "      <th>...</th>\n",
       "      <th>DatePanDDAModelCreated</th>\n",
       "      <th>RefinementCIFStatus</th>\n",
       "      <th>RefinementCIFprogram</th>\n",
       "      <th>RefinementStatus</th>\n",
       "      <th>Deposition_PDB_ID</th>\n",
       "      <th>Deposition_Date</th>\n",
       "      <th>RefinementProgram</th>\n",
       "      <th>Deposition_PDB_file</th>\n",
       "      <th>Deposition_mmCIF_model_file</th>\n",
       "      <th>Deposition_mmCIF_SF_file</th>\n",
       "    </tr>\n",
       "  </thead>\n",
       "  <tbody>\n",
       "    <tr>\n",
       "      <th>0</th>\n",
       "      <td>1</td>\n",
       "      <td>lb13320-1</td>\n",
       "      <td>DSPL</td>\n",
       "      <td>A01</td>\n",
       "      <td>DSPL</td>\n",
       "      <td>COc1cc(ccc1N)N2CCOCC2</td>\n",
       "      <td>N13417a</td>\n",
       "      <td>441330002553</td>\n",
       "      <td>A01d</td>\n",
       "      <td>-179.2228</td>\n",
       "      <td>...</td>\n",
       "      <td>None</td>\n",
       "      <td>restraints generated</td>\n",
       "      <td>acedrg</td>\n",
       "      <td>pending</td>\n",
       "      <td>None</td>\n",
       "      <td>None</td>\n",
       "      <td>None</td>\n",
       "      <td>None</td>\n",
       "      <td>None</td>\n",
       "      <td>None</td>\n",
       "    </tr>\n",
       "    <tr>\n",
       "      <th>1</th>\n",
       "      <td>2</td>\n",
       "      <td>lb13320-1</td>\n",
       "      <td>DSPL</td>\n",
       "      <td>A02</td>\n",
       "      <td>DSPL</td>\n",
       "      <td>CC[NH+]1CCCCC1</td>\n",
       "      <td>N13353a</td>\n",
       "      <td>441330002553</td>\n",
       "      <td>B01a</td>\n",
       "      <td>399.2647</td>\n",
       "      <td>...</td>\n",
       "      <td>None</td>\n",
       "      <td>None</td>\n",
       "      <td>None</td>\n",
       "      <td>None</td>\n",
       "      <td>None</td>\n",
       "      <td>None</td>\n",
       "      <td>None</td>\n",
       "      <td>None</td>\n",
       "      <td>None</td>\n",
       "      <td>None</td>\n",
       "    </tr>\n",
       "    <tr>\n",
       "      <th>2</th>\n",
       "      <td>3</td>\n",
       "      <td>lb13320-1</td>\n",
       "      <td>DSPL</td>\n",
       "      <td>A03</td>\n",
       "      <td>DSPL</td>\n",
       "      <td>CC(=O)Nc1nnc(s1)COC</td>\n",
       "      <td>N13517a</td>\n",
       "      <td>441330002553</td>\n",
       "      <td>B01c</td>\n",
       "      <td>-504.7559</td>\n",
       "      <td>...</td>\n",
       "      <td>None</td>\n",
       "      <td>restraints generated</td>\n",
       "      <td>acedrg</td>\n",
       "      <td>pending</td>\n",
       "      <td>None</td>\n",
       "      <td>None</td>\n",
       "      <td>None</td>\n",
       "      <td>None</td>\n",
       "      <td>None</td>\n",
       "      <td>None</td>\n",
       "    </tr>\n",
       "    <tr>\n",
       "      <th>3</th>\n",
       "      <td>4</td>\n",
       "      <td>lb13320-1</td>\n",
       "      <td>DSPL</td>\n",
       "      <td>A04</td>\n",
       "      <td>DSPL</td>\n",
       "      <td>CCNC(=O)Nc1cc(on1)C</td>\n",
       "      <td>N13570a</td>\n",
       "      <td>441330002553</td>\n",
       "      <td>E01c</td>\n",
       "      <td>-673.7883</td>\n",
       "      <td>...</td>\n",
       "      <td>None</td>\n",
       "      <td>restraints generated</td>\n",
       "      <td>acedrg</td>\n",
       "      <td>pending</td>\n",
       "      <td>None</td>\n",
       "      <td>None</td>\n",
       "      <td>None</td>\n",
       "      <td>None</td>\n",
       "      <td>None</td>\n",
       "      <td>None</td>\n",
       "    </tr>\n",
       "    <tr>\n",
       "      <th>4</th>\n",
       "      <td>5</td>\n",
       "      <td>lb13320-1</td>\n",
       "      <td>DSPL</td>\n",
       "      <td>A05</td>\n",
       "      <td>DSPL</td>\n",
       "      <td>CC(C)(C)OC(=O)N1CC[NH+](CC1)CCO</td>\n",
       "      <td>N13419a</td>\n",
       "      <td>441330002553</td>\n",
       "      <td>E01d</td>\n",
       "      <td>-219.6951</td>\n",
       "      <td>...</td>\n",
       "      <td>None</td>\n",
       "      <td>restraints generated</td>\n",
       "      <td>acedrg</td>\n",
       "      <td>pending</td>\n",
       "      <td>None</td>\n",
       "      <td>None</td>\n",
       "      <td>None</td>\n",
       "      <td>None</td>\n",
       "      <td>None</td>\n",
       "      <td>None</td>\n",
       "    </tr>\n",
       "  </tbody>\n",
       "</table>\n",
       "<p>5 rows × 343 columns</p>\n",
       "</div>"
      ],
      "text/plain": [
       "   ID   LabVisit LibraryPlate SourceWell LibraryName  \\\n",
       "0   1  lb13320-1         DSPL        A01        DSPL   \n",
       "1   2  lb13320-1         DSPL        A02        DSPL   \n",
       "2   3  lb13320-1         DSPL        A03        DSPL   \n",
       "3   4  lb13320-1         DSPL        A04        DSPL   \n",
       "4   5  lb13320-1         DSPL        A05        DSPL   \n",
       "\n",
       "                    CompoundSMILES CompoundCode  CrystalPlate CrystalWell  \\\n",
       "0            COc1cc(ccc1N)N2CCOCC2      N13417a  441330002553        A01d   \n",
       "1                   CC[NH+]1CCCCC1      N13353a  441330002553        B01a   \n",
       "2              CC(=O)Nc1nnc(s1)COC      N13517a  441330002553        B01c   \n",
       "3              CCNC(=O)Nc1cc(on1)C      N13570a  441330002553        E01c   \n",
       "4  CC(C)(C)OC(=O)N1CC[NH+](CC1)CCO      N13419a  441330002553        E01d   \n",
       "\n",
       "      EchoX  ... DatePanDDAModelCreated   RefinementCIFStatus  \\\n",
       "0 -179.2228  ...                   None  restraints generated   \n",
       "1  399.2647  ...                   None                  None   \n",
       "2 -504.7559  ...                   None  restraints generated   \n",
       "3 -673.7883  ...                   None  restraints generated   \n",
       "4 -219.6951  ...                   None  restraints generated   \n",
       "\n",
       "  RefinementCIFprogram RefinementStatus Deposition_PDB_ID Deposition_Date  \\\n",
       "0               acedrg          pending              None            None   \n",
       "1                 None             None              None            None   \n",
       "2               acedrg          pending              None            None   \n",
       "3               acedrg          pending              None            None   \n",
       "4               acedrg          pending              None            None   \n",
       "\n",
       "  RefinementProgram Deposition_PDB_file Deposition_mmCIF_model_file  \\\n",
       "0              None                None                        None   \n",
       "1              None                None                        None   \n",
       "2              None                None                        None   \n",
       "3              None                None                        None   \n",
       "4              None                None                        None   \n",
       "\n",
       "  Deposition_mmCIF_SF_file  \n",
       "0                     None  \n",
       "1                     None  \n",
       "2                     None  \n",
       "3                     None  \n",
       "4                     None  \n",
       "\n",
       "[5 rows x 343 columns]"
      ]
     },
     "metadata": {},
     "output_type": "display_data"
    }
   ],
   "source": [
    "display( tabledf_dict[\"mainTable\"].head() )"
   ]
  },
  {
   "cell_type": "markdown",
   "metadata": {},
   "source": [
    "# Intro\n",
    "\n",
    "List of tables:\n",
    "\n",
    "- Main Table\n",
    "    - Contains most of the overall data for all the steps of the pipeline\n",
    "- Collection Table\n",
    "    - Contains information about each autoprocessing protocol used for each diffraction pattern data, including quality metics, file paths, parameters used...\n",
    "- PanDDA Table\n",
    "    - Conatins information about the pandda processing of the autoprocessed data\n",
    "- depositTable\n",
    "- soakDB\n",
    "- zenodoTable\n",
    "- pucks"
   ]
  },
  {
   "cell_type": "markdown",
   "metadata": {},
   "source": [
    "## | **Main Table** |"
   ]
  },
  {
   "cell_type": "code",
   "execution_count": 11,
   "metadata": {},
   "outputs": [],
   "source": [
    "main_df = tabledf_dict[\"mainTable\"]\n",
    "pandda_df = tabledf_dict[\"panddaTable\"]\n",
    "collect_df = tabledf_dict[\"collectionTable\"]"
   ]
  },
  {
   "cell_type": "markdown",
   "metadata": {},
   "source": [
    "### Key Metadata"
   ]
  },
  {
   "cell_type": "markdown",
   "metadata": {},
   "source": [
    "<ins> Lab Visit and Lab Collection Visit </ins>\n",
    "\n",
    "The lab visit corresponds to the visit that exists in the dls record as visit. Then, there can be visits happening latter to collect the data, but the data gets stored in the original folder.\n",
    "\n",
    "Columns: LabVisit DataCollectionVisit"
   ]
  },
  {
   "cell_type": "code",
   "execution_count": null,
   "metadata": {},
   "outputs": [],
   "source": []
  },
  {
   "cell_type": "markdown",
   "metadata": {},
   "source": [
    "<ins> Experiment Type </ins>\n",
    "\n",
    "There are two columns: LibraryPlate and LibraryName\n",
    "\n",
    "NOTE: There are cases when labels miss on one, but not on the other.\n",
    "\n",
    "# **Q.**\n",
    "How do I tell whether it is a solvent experiment, a fragment screen, or anything else? The labels seem very arbitrary."
   ]
  },
  {
   "cell_type": "code",
   "execution_count": 34,
   "metadata": {},
   "outputs": [
    {
     "name": "stdout",
     "output_type": "stream",
     "text": [
      "Library Plates Labels:  ['SpotXplorer', '1851376-Y4-02', '1530852-Y4-89', '1530852-Y4-51', None, '1530852-Y4-83', 'Probing_Fragment_all', 'All-probing', 'Levente Kollar-Ivan Ahel', '1530852-Y4-163', '1530852-Y4-288', '1851376-Y4-01', 'CHICKV-xp02', '1530852-Y4-112', 'CHICKV-xp01', \"Peter O'Brien Compounds\", 'DSIPoised', 'EnamineEF', '1530852-Y4-62', '1530852-Y4-134', '1530852-Y4-16', '1530852-Y4-39', 'Solvent Test', 'DSIPoised_DMSO', '1530852-Y4-65']\n",
      "Library Names Labels:  ['EnamineEssentialFragments', 'SpotXplorer', None, '1851376-Y4-01', '1851376-Y4-02', 'York 3D', 'Minifrags', 'ASAP-Mac1', 'Levente Kollar-Ivan Ahel', \"Peter O'Brien Compounds\", 'CHICKV-xp02', 'PepLite', 'CHICKV-xp01', 'Solvent', 'DSIPoised', 'Fraglite', 'Diffraction Test']\n"
     ]
    }
   ],
   "source": [
    "# Q: Is there a preset list of names that these can take, or are they selected separately?\n",
    "\n",
    "# crys_libplate = main_df[\"CrystalName\"][main_df[\"LibraryPlate\"] == \"done\"]\n",
    "# crys_libname =  main_df[\"CrystalName\"][main_df[\"LibraryName\"] == \"done\"]\n",
    "\n",
    "\n",
    "print( \"Library Plates Labels: \", list( set( main_df[ \"LibraryPlate\" ] )))\n",
    "print( \"Library Names Labels: \", list( set( main_df[ \"LibraryName\" ] )))\n",
    "\n",
    "# print(\"Number of crystals which were soaked: \", len( crys_soakstatus ) )\n",
    "# print(\"Number of crystals which were soaked: \", len( crys_soakstatus ) )"
   ]
  },
  {
   "cell_type": "markdown",
   "metadata": {},
   "source": [
    "<ins>Compound Information</ins>\n",
    "\n",
    "- Unique Identifiers: \"CrystalName\"\n",
    "\n",
    "Notes: \n",
    "\n",
    "- the compound code includes solvent information\n",
    "\n",
    "- There might be a repeat of the same compound being used. This can mean that it is used for different targets (which is unusual given that the norm is that each visit uses one target protein), or duplicates, or something else."
   ]
  },
  {
   "cell_type": "code",
   "execution_count": 82,
   "metadata": {},
   "outputs": [
    {
     "name": "stdout",
     "output_type": "stream",
     "text": [
      "Total number of unique compounds codes:  1655\n",
      "Total number of unique compounds SMILES:  1635\n",
      "Total number of compound SMILES:  3466\n"
     ]
    }
   ],
   "source": [
    "compound_info = main_df[ [\"CrystalName\", \"CompoundCode\", \"CompoundSMILES\"] ]\n",
    "# display(compound_info[300:305])\n",
    "print(\"Total number of unique compounds codes: \", len(list( set( main_df[\"CompoundCode\"][  main_df[\"CompoundCode\"].isna() == False ] ) ) ) )\n",
    "print(\"Total number of unique compounds SMILES: \", len(list( set( main_df[\"CompoundSMILES\"][  main_df[\"CompoundSMILES\"].isna() == False ] ) ) ) )\n",
    "print(\"Total number of compound SMILES: \", len( main_df[\"CompoundSMILES\"].dropna() ) )\n",
    "\n"
   ]
  },
  {
   "cell_type": "markdown",
   "metadata": {},
   "source": [
    "<ins> Protein Information <ins>\n",
    "- Protein Name: \"ProteinName\"\n"
   ]
  },
  {
   "cell_type": "code",
   "execution_count": 50,
   "metadata": {},
   "outputs": [
    {
     "name": "stdout",
     "output_type": "stream",
     "text": [
      "Total number of unique proteins:  2\n"
     ]
    }
   ],
   "source": [
    "print(\"Total number of unique proteins: \", len(list( set( main_df[\"ProteinName\"][  main_df[\"ProteinName\"].isna() == False ] ) ) ) )"
   ]
  },
  {
   "cell_type": "markdown",
   "metadata": {},
   "source": [
    "<ins> Soaking </ins>"
   ]
  },
  {
   "cell_type": "code",
   "execution_count": 30,
   "metadata": {},
   "outputs": [
    {
     "name": "stdout",
     "output_type": "stream",
     "text": [
      "Soak Status Labels:  [None, 'exported', 'done']\n",
      "Number of crystals which were soaked:  3645\n"
     ]
    }
   ],
   "source": [
    "crys_soakstatus = main_df[\"CrystalName\"][main_df[\"SoakStatus\"] == \"done\"] # ??? what is exported ???7\n",
    "print( \"Soak Status Labels: \", list( set( main_df[ \"SoakStatus\" ] )))\n",
    "print(\"Number of crystals which were soaked: \", len( crys_soakstatus ) )"
   ]
  },
  {
   "cell_type": "markdown",
   "metadata": {},
   "source": [
    "<ins> Harvest </ins>\n",
    "\n",
    "Exported? -> Maybe they were moved elsewhere?"
   ]
  },
  {
   "cell_type": "code",
   "execution_count": 33,
   "metadata": {},
   "outputs": [
    {
     "name": "stdout",
     "output_type": "stream",
     "text": [
      "Harvest Status Labels:  [None, 'exported', 'done', 'fail']\n",
      "Number of crystals that got harvested:  2926\n",
      "Number of crystals that failed harvest:  413\n"
     ]
    }
   ],
   "source": [
    "crys_harvested = main_df[\"CrystalName\"][main_df[ \"HarvestStatus\" ] == \"done\"] \n",
    "crys_failed = main_df[\"CrystalName\"][main_df[ \"HarvestStatus\" ] == \"fail\"] \n",
    "print( \"Harvest Status Labels: \", list( set( main_df[ \"HarvestStatus\" ] )))\n",
    "print(\"Number of crystals that got harvested: \",len( crys_harvested ) )\n",
    "print(\"Number of crystals that failed harvest: \", len( crys_failed) )"
   ]
  },
  {
   "cell_type": "markdown",
   "metadata": {},
   "source": [
    "<ins>Mounting</ins>\n",
    "\n",
    "Check the success of mounting. If there was failing in harvesting or soaking, this would show fail."
   ]
  },
  {
   "cell_type": "code",
   "execution_count": 58,
   "metadata": {},
   "outputs": [
    {
     "name": "stdout",
     "output_type": "stream",
     "text": [
      "Mounting Status Labels:  [None, 'OK: Crystalline:No comment', 'FAIL: No comment:Cracked', 'OK: Precipitated:Dissolved', 'OK: No comment:Cracked', 'OK: No comment:No comment', 'FAIL: No comment:Coloured', 'FAIL: No comment:Dissolved', 'FAIL: No comment:Melted', 'OK: Precipitated:No comment', 'OK: No comment:Dissolved', 'OK: No comment:Jelly', 'OK: No comment:Coloured', 'FAIL: Bad Dispense:No comment', 'FAIL: No comment:No comment']\n",
      "Number of crystals that got mounted:  2826\n"
     ]
    }
   ],
   "source": [
    "bool_lst = [ val[:2] == \"OK\" if val != None else False for val in main_df[ \"MountingResult\" ] ]\n",
    "print( \"Mounting Status Labels: \", list( set( main_df[ \"MountingResult\" ] )))\n",
    "crys_mounted = main_df[\"CrystalName\"][bool_lst]\n",
    "print(\"Number of crystals that got mounted: \", len( crys_mounted ) )\n"
   ]
  },
  {
   "cell_type": "markdown",
   "metadata": {},
   "source": [
    "<ins>IspyB DB</ins>\n",
    "\n",
    "Some were NOT soaked and NOT Mounted, but were harvested and exported to ispyB -> Probably were crystallized here without being soaked and got diffracted elsewhere but got exported into ispyb?\n"
   ]
  },
  {
   "cell_type": "code",
   "execution_count": 80,
   "metadata": {},
   "outputs": [
    {
     "name": "stdout",
     "output_type": "stream",
     "text": [
      "Database export Status Labels:  [None, 'exported to ispyb']\n",
      "Number of crystals that got exported to IspyB:  2926\n",
      "100\n",
      "['CHIKV_MacA-x0001', 'CHIKV_MacA-x0002', 'CHIKV_MacA-x0003', 'CHIKV_MacA-x0004', 'CHIKV_MacA-x0005', 'CHIKV_MacA-x0006', 'CHIKV_MacA-x0007', 'CHIKV_MacA-x0008', 'CHIKV_MacA-x0009', 'CHIKV_MacA-x0010', 'CHIKV_MacA-x0011', 'CHIKV_MacA-x0012', 'CHIKV_MacA-x0013', 'CHIKV_MacA-x0014', 'CHIKV_MacA-x0015', 'CHIKV_MacA-x0016', 'CHIKV_MacA-x0017', 'CHIKV_MacA-x0018', 'CHIKV_MacA-x0019', 'CHIKV_MacA-x0020', 'CHIKV_MacA-x0021', 'CHIKV_MacA-x0022', 'CHIKV_MacA-x0023', 'CHIKV_MacA-x0024', 'CHIKV_MacA-x0025', 'CHIKV_MacA-x0026', 'CHIKV_MacA-x0027', 'CHIKV_MacA-x0028', 'CHIKV_MacA-x0029', 'CHIKV_MacA-x0030', 'CHIKV_MacA-x0031', 'CHIKV_MacA-x0032', 'CHIKV_MacB-x0032', 'CHIKV_MacB-x0033', 'CHIKV_MacB-x0034', 'CHIKV_MacB-x0035', 'CHIKV_MacB-x0036', 'CHIKV_MacB-x0037', 'CHIKV_MacB-x0038', 'CHIKV_MacB-x0039', 'CHIKV_MacB-x0040', 'CHIKV_MacB-x0041', 'CHIKV_MacB-x0042', 'CHIKV_MacB-x0043', 'CHIKV_MacB-x0044', 'CHIKV_MacB-x0045', 'CHIKV_MacB-x0046', 'CHIKV_MacB-x0047', 'CHIKV_MacB-x0048', 'CHIKV_MacB-x0049', 'CHIKV_MacB-x0050', 'CHIKV_MacB-x0051', 'CHIKV_MacB-x0052', 'CHIKV_MacB-x0053', 'CHIKV_MacB-x0054', 'CHIKV_MacB-x0055', 'CHIKV_MacB-x0056', 'CHIKV_MacB-x0057', 'CHIKV_MacB-x0058', 'CHIKV_MacB-x0059', 'CHIKV_MacB-x0060', 'CHIKV_MacB-x0061', 'CHIKV_MacB-x0062', 'CHIKV_MacB-x0063', 'CHIKV_MacB-x0064', 'CHIKV_MacB-x0065', 'CHIKV_MacB-x0066', 'CHIKV_MacB-x0067', 'CHIKV_MacB-x0068', 'CHIKV_MacB-x0069', 'CHIKV_MacB-x0070', 'CHIKV_MacB-x0071', 'CHIKV_MacB-x0072', 'CHIKV_MacB-x0073', 'CHIKV_MacB-x0074', 'CHIKV_MacB-x0075', 'CHIKV_MacB-x0076', 'CHIKV_MacB-x0077', 'CHIKV_MacB-x0078', 'CHIKV_MacB-x0079', 'CHIKV_MacB-x0080', 'CHIKV_MacB-x0081', 'CHIKV_MacB-x0082', 'CHIKV_MacB-x0083', 'CHIKV_MacB-x0084', 'CHIKV_MacB-x0085', 'CHIKV_MacB-x0086', 'CHIKV_MacB-x0087', 'CHIKV_MacB-x0088', 'CHIKV_MacB-x0089', 'CHIKV_MacB-x0090', 'CHIKV_MacB-x0091', 'CHIKV_MacB-x1457', 'CHIKV_MacB-x1458', 'CHIKV_MacB-x1459', 'CHIKV_MacB-x1460', 'CHIKV_MacB-x1461', 'CHIKV_MacB-x1462', 'CHIKV_MacB-x1463', 'CHIKV_MacB-x1464']\n",
      "All the crystals harvested correspond to all the crystals exported to ispyb\n"
     ]
    }
   ],
   "source": [
    "uniq_lst =list( set( [value[:17] if type(value) == str else value if value == None else value for value in main_df[ \"ispybStatus\" ]] ))\n",
    "bool_lst = [ value[:17] == 'exported to ispyb' if type(value) == str else False for value in main_df[ \"ispybStatus\" ] ]\n",
    "print( \"Database export Status Labels: \", uniq_lst )\n",
    "crys_inispyb = main_df[\"CrystalName\"][bool_lst]\n",
    "print(\"Number of crystals that got exported to IspyB: \",len( crys_inispyb ) )\n",
    "\n",
    "# Trying to identify the origin of the ones that got export but not mounted. The number of exported == number of harvested\n",
    "not_mounted_1 = set( crys_inispyb)  - set( crys_mounted )\n",
    "print(len(not_mounted_1)) #\n",
    "# print(len()) \n",
    "print(sorted(list( not_mounted_1 ) ) ) \n",
    "\n",
    "print(\"All the crystals harvested correspond to all the crystals exported to ispyb\") if set(crys_inispyb) == set(crys_harvested) else print(\"Not all crystals harvested were exported to ispyb\") "
   ]
  },
  {
   "cell_type": "markdown",
   "metadata": {},
   "source": [
    "<ins>Data collection </ins>\n",
    "\n",
    "- Data Collection Outcome (success or Failed ): \"DataCollectionOutcome\"\n",
    "-  \n"
   ]
  },
  {
   "cell_type": "code",
   "execution_count": 86,
   "metadata": {},
   "outputs": [
    {
     "name": "stdout",
     "output_type": "stream",
     "text": [
      "Collection Status Labels:  [None, 'Failed - low resolution', 'success']\n",
      "Number of crystals which data got collected:  2540\n",
      "Number of crystals which failed data collection:  6\n"
     ]
    }
   ],
   "source": [
    "crys_datacollected = main_df[\"CrystalName\"][main_df[ \"DataCollectionOutcome\" ] == \"success\"] \n",
    "crys_datacollected_fail = main_df[\"CrystalName\"][main_df[ \"DataCollectionOutcome\" ] == \"Failed - low resolution\"] \n",
    "print( \"Collection Status Labels: \", list( set( main_df[ \"DataCollectionOutcome\" ] )))\n",
    "print( \"Number of crystals which data got collected: \", len(crys_datacollected))\n",
    "print( \"Number of crystals which failed data collection: \", len(crys_datacollected_fail ) )\n",
    "# print( len(crys_mounted)- len(crys_datacollected_fail) )"
   ]
  },
  {
   "cell_type": "markdown",
   "metadata": {},
   "source": [
    "<ins>Autoprocessing</ins>\n",
    "\n",
    "Column name for Path to autoprocessed file: DataProcessingPathToMTZfile"
   ]
  },
  {
   "cell_type": "code",
   "execution_count": 13,
   "metadata": {},
   "outputs": [
    {
     "name": "stdout",
     "output_type": "stream",
     "text": [
      "Path of autoprocessed file used:  /dls/labxchem/data/lb32633/lb32633-6/processing/analysis/model_building/CHIKV_MacB-x0270/autoprocessing/lb32633-19-CHIKV_MacB-x0270_1xia2-dials_b12ee8bc-44d0-47ee-930a-5378514db6b5/lb32633v19_xCHIKVMacBx02701_free.mtz\n"
     ]
    }
   ],
   "source": [
    "print( \"Path of autoprocessed file used: \",list( main_df[\"DataProcessingPathToMTZfile\"][main_df[\"CrystalName\"] == \"CHIKV_MacB-x0270\"])[0]  )"
   ]
  },
  {
   "cell_type": "markdown",
   "metadata": {},
   "source": [
    "<ins>Dimple </ins>\n",
    "\n",
    "- Path to dimple output pdb file: DimplePathToPDB\n",
    "- Path to dimpple output mtz file: DimplePathToMTZ\n",
    "- Path to dimple reference model file: DimpleReferencePDB\n",
    "- Dimple Status: DimpleStatus\n",
    "- Dimple Metrics: DimpleRcryst | DimpleRfree\n",
    "\n",
    "Note that the dimple reference model gets updated with the PanDDA "
   ]
  },
  {
   "cell_type": "code",
   "execution_count": 17,
   "metadata": {},
   "outputs": [
    {
     "name": "stdout",
     "output_type": "stream",
     "text": [
      "Dimple pdb Path: \t /dls/labxchem/data/lb32633/lb32633-6/processing/analysis/model_building/CHIKV_MacB-x0270/dimple.pdb\n",
      "Dimple mtz Path: \t /dls/labxchem/data/lb32633/lb32633-6/processing/analysis/model_building/CHIKV_MacB-x0270/dimple.mtz\n",
      "Reference Path: \t /dls/labxchem/data/lb32633/lb32633-6/processing/reference/CHIKV_MacB-x0257-ground-state.pdb\n",
      "Dimple Status: \t\t finished\n",
      "Dimple Metrics: \t Dimple Rcryst = 0.19019 | Dimple Rfree = 0.2166 \n",
      "\n",
      "Dimple Status Labels:  [None, 'running', 'finished']\n",
      "Dimple Processing Status Labels:  [None, 'True', 'TRUE']\n",
      "Number of crystals which data got collected:  2387\n"
     ]
    }
   ],
   "source": [
    "crys_dimplesuccess = main_df[\"CrystalName\"][ main_df[ \"DataProcessingDimpleSuccessful\" ].isin( [\"TRUE\",\"True\"] ) ] \n",
    "print( \"Dimple pdb Path: \\t\", list( main_df[\"DimplePathToPDB\"][main_df[\"CrystalName\"] == \"CHIKV_MacB-x0270\"])[0]  )\n",
    "print( \"Dimple mtz Path: \\t\", list( main_df[\"DimplePathToMTZ\"][main_df[\"CrystalName\"] == \"CHIKV_MacB-x0270\"])[0]  )\n",
    "print(\"Reference Path: \\t\" , list( main_df[\"DimpleReferencePDB\"][main_df[\"CrystalName\"] == \"CHIKV_MacB-x0270\"])[0]  )\n",
    "print(\"Dimple Status: \\t\\t\" , list( main_df[\"DimpleStatus\"][main_df[\"CrystalName\"] == \"CHIKV_MacB-x0270\"])[0]  )\n",
    "print(\"Dimple Metrics: \\t Dimple Rcryst =\" , list( main_df[\"DimpleRcryst\"][main_df[\"CrystalName\"] == \"CHIKV_MacB-x0270\"])[0], \n",
    "      \"| Dimple Rfree =\", list( main_df[\"DimpleRfree\"][main_df[\"CrystalName\"] == \"CHIKV_MacB-x0270\"])[0] , \"\\n\" )\n",
    "\n",
    "print( \"Dimple Status Labels: \", list( set( main_df[ \"DimpleStatus\" ] ) ) )\n",
    "print( \"Dimple Processing Status Labels: \", list( set( main_df[ \"DataProcessingDimpleSuccessful\" ] ) ) )\n",
    "print( \"Number of crystals which data got collected: \", len(crys_dimplesuccess))\n",
    "\n"
   ]
  },
  {
   "cell_type": "markdown",
   "metadata": {},
   "source": [
    "<ins> PanDDAS Processing </ins>\n",
    "\n",
    "- CrystalName : Unique Identifier for other tables\n",
    "\n",
    "- DimplePANDDAwasRun: Was Panddas run on crystal data?\n",
    "\n",
    "- DimplePANDDAreject: Was crystal data rejected by Panddas?\n",
    "\n",
    "- DimplePANDDAhit: Did Panddas identify a hit?\n",
    "\n",
    "- DimplePANDDApath: Path \n",
    "\n"
   ]
  },
  {
   "cell_type": "code",
   "execution_count": 19,
   "metadata": {},
   "outputs": [
    {
     "name": "stdout",
     "output_type": "stream",
     "text": [
      "PanDDa Run Status Labels:  [None, 'success', 'Failed - low resolution']\n",
      "PanDDa Status Labels:  [None]\n",
      "PanDDa reject Status Labels:  [None, 'FALSE']\n",
      "PanDDa hit Status Labels:  [None, 'TRUE']\n",
      "Path of location for PanDDa processing: /dls/labxchem/data/lb32633/lb32633-6/processing/analysis/panddas/20240906_pandda2_2472-2588\n",
      "\n",
      "Number of crystal run through PanDDas:  2142\n",
      "Number of crystals data accepted by PanDDas:  2142\n",
      "\n",
      "Number of crystals with identified hits by PanDDAS:  832\n",
      "Number of crystals without identified hits by PanDDAS:  1310\n",
      "Percentage of crystals accepted by Panddas with identified hits:  38.84 %\n"
     ]
    }
   ],
   "source": [
    "crys_panddarun = main_df[\"CrystalName\"][main_df[\"DimplePANDDAwasRun\"] == \"TRUE\"]\n",
    "crys_panddaaccept =  main_df[\"CrystalName\"][main_df[\"DimplePANDDAreject\"] == \"FALSE\"]\n",
    "crys_panddahit = main_df[\"CrystalName\"][main_df[\"DimplePANDDAhit\"] == \"TRUE\"]\n",
    "\n",
    "print( \"PanDDa Run Status Labels: \", list( set( main_df[ \"DataCollectionOutcome\" ] )))\n",
    "print( \"PanDDa Status Labels: \", list( set( main_df[ \"PANDDAStatus\" ] ) ) )\n",
    "print( \"PanDDa reject Status Labels: \", list( set( main_df[ \"DimplePANDDAreject\" ] )))\n",
    "print( \"PanDDa hit Status Labels: \", list( set( main_df[ \"DimplePANDDAhit\" ] )))\n",
    "print( \"Path of location for PanDDa processing:\", list( main_df[\"DimplePANDDApath\"][main_df[\"CrystalName\"] == \"CHIKV_MacB-x0270\"])[0]  )\n",
    "\n",
    "print( \"\\nNumber of crystal run through PanDDas: \", len(crys_panddarun) )\n",
    "print(\"Number of crystals data accepted by PanDDas: \", len(crys_panddaaccept))      \n",
    "print(\"\\nNumber of crystals with identified hits by PanDDAS: \",len(crys_panddahit) )\n",
    "print(\"Number of crystals without identified hits by PanDDAS: \", len(crys_panddaaccept)- len(crys_panddahit) )\n",
    "print(\"Percentage of crystals accepted by Panddas with identified hits: \", round( len(crys_panddahit)/  len(crys_panddaaccept),4 )*100 , \"%\" )\n"
   ]
  },
  {
   "cell_type": "markdown",
   "metadata": {},
   "source": [
    "<ins>Refinement</ins>\n",
    "\n",
    "### Q.\n",
    "\n",
    "What is the difference between refinement outcome and status?\n",
    "\n",
    "\n",
    "Metrics:\n",
    "\n",
    "- RefinementResolution, RefinementResolutionTL\n",
    "- RefinementRcryst, RefinementRcrystTraficLight, RefinementRfree, RefinementRfreeTraficLight\n",
    "- RefinementLigandCC\n",
    "- RefinementRmsdBonds, RefinementRmsdBondsTL\n",
    "- RefinementRmsdAngles, RefinementRmsdAnglesTL \n",
    "\n",
    "Status:\n",
    "- Refinement Outcome Labels: RefinementOutcome\n",
    "- Refinement Status Labels: RefinementStatus\n",
    "- Refinement Status of Compound: RefinementCIFStatus\n",
    "\n",
    "Paths:\n",
    "- Path for refined Compound: RefinementCIF\n",
    "- Path of most refined model: RefinementPDB_latest\n",
    "- Path of most refined mtz: RefinementMTZ_latest\n",
    "- Path of most refined mmcif: RefinementMMCIFmodel_latest\n",
    "- Path of most refined mmcif constrains: RefinementMMCIFreflections_latest\n",
    "- Path to refined bound conformatoin: RefinementBoundConformation\n",
    "\n",
    "\n",
    "\n",
    "Notes:\n",
    "\n",
    "- I think traffic lights (TL) is a way to categorize the values into three categories based on the quality (green = great, yellow = medium, red = bad)"
   ]
  },
  {
   "cell_type": "code",
   "execution_count": 139,
   "metadata": {},
   "outputs": [
    {
     "name": "stdout",
     "output_type": "stream",
     "text": [
      "Refinement Outcome Labels:  [None, '7 - Analysed & Rejected', '1 - Analysis Pending', '6 - Deposited', '3 - In Refinement']\n",
      "Refinement Status Labels:  [None, 'failed', 'finished', 'running', 'CIF problem']\n",
      "Number of Refined Models Deposited:  134\n",
      "Number of Refined Models Finished:  906\n",
      "Number of Refined Models with Analysis Pending:  210\n",
      "Number of Refined Models Running:  19\n",
      "Number of Refined Models Deposited after accepted by Panddas:  TO BE COMPLETED!!\n",
      "276    CHIKV_MacB-x0270\n",
      "287    CHIKV_MacB-x0281\n",
      "295    CHIKV_MacB-x0289\n",
      "300    CHIKV_MacB-x0294\n",
      "301    CHIKV_MacB-x0295\n",
      "Name: CrystalName, dtype: object\n"
     ]
    }
   ],
   "source": [
    "print( \"Refinement Outcome Labels: \", list( set( main_df[ \"RefinementOutcome\" ] )))\n",
    "print(\"Refinement Status Labels: \", list( set( main_df[ \"RefinementStatus\" ] )))\n",
    "crys_refdeposited = main_df[\"CrystalName\"][main_df[ \"RefinementOutcome\" ] == \"6 - Deposited\"] \n",
    "crys_refrej =  main_df[\"CrystalName\"][main_df[ \"RefinementOutcome\" ]== \"7 - Analysed & Rejected\" ] \n",
    "crys_reffinish = main_df[\"CrystalName\"][main_df[ \"RefinementStatus\" ] == \"finished\"] \n",
    "crys_refpending = main_df[\"CrystalName\"][main_df[ \"RefinementOutcome\" ]== \"1 - Analysis Pending\" ] \n",
    "crys_refrunning = main_df[\"CrystalName\"][main_df[ \"RefinementStatus\" ] == \"running\"] \n",
    "print(\"Number of Refined Models Deposited: \", len(crys_refdeposited) )\n",
    "print(\"Number of Refined Models Finished: \", len( crys_reffinish ))\n",
    "print(\"Number of Refined Models with Analysis Pending: \", len( crys_refpending ))\n",
    "print(\"Number of Refined Models Running: \", len( crys_refrunning ))\n",
    "print(\"Number of Refined Models Deposited after accepted by Panddas: \", \"TO BE COMPLETED!!\")\n",
    "# print(\"Number of \")\n",
    "print(crys_refdeposited[:5])\n"
   ]
  },
  {
   "cell_type": "code",
   "execution_count": 21,
   "metadata": {},
   "outputs": [
    {
     "name": "stdout",
     "output_type": "stream",
     "text": [
      "Path of latests refined compound cif: /dls/labxchem/data/lb32633/lb32633-6/processing/analysis/model_building/CHIKV_MacB-x0270/compound/Z100643660.cif\n",
      "Path of latests refined pdb: /dls/labxchem/data/lb32633/lb32633-6/processing/analysis/model_building/CHIKV_MacB-x0270/Refine_0009/refine_9.pdb\n",
      "Path of latests refined mtz: /dls/labxchem/data/lb32633/lb32633-6/processing/analysis/model_building/CHIKV_MacB-x0270/Refine_0009/refine_9.mtz\n",
      "Path of latests refined mmcif: None\n",
      "Path of latests refined mmcif with structure factors: None\n",
      "Path of latests refined bound structure: /dls/labxchem/data/lb32633/lb32633-6/processing/analysis/model_building/CHIKV_MacB-x0270/Refine_0009/refine_9.split.bound-state.pdb\n"
     ]
    }
   ],
   "source": [
    "# Paths\n",
    "print( \"Path of latests refined compound cif:\", list( main_df[\"RefinementCIF\"][main_df[\"CrystalName\"] == \"CHIKV_MacB-x0270\"])[0]  )\n",
    "print( \"Path of latests refined pdb:\", list( main_df[\"RefinementPDB_latest\"][main_df[\"CrystalName\"] == \"CHIKV_MacB-x0270\"])[0]  )\n",
    "print( \"Path of latests refined mtz:\", list( main_df[\"RefinementMTZ_latest\"][main_df[\"CrystalName\"] == \"CHIKV_MacB-x0270\"])[0]  )\n",
    "print( \"Path of latests refined mmcif:\", list( main_df[\"RefinementMMCIFmodel_latest\"][main_df[\"CrystalName\"] == \"CHIKV_MacB-x0270\"])[0]  )\n",
    "print( \"Path of latests refined mmcif with structure factors:\", list( main_df[\"RefinementMMCIFreflections_latest\"][main_df[\"CrystalName\"] == \"CHIKV_MacB-x0270\"])[0]  )\n",
    "print( \"Path of latests refined bound structure:\", list( main_df[\"RefinementBoundConformation\"][main_df[\"CrystalName\"] == \"CHIKV_MacB-x0270\"])[0]  )\n"
   ]
  },
  {
   "cell_type": "markdown",
   "metadata": {},
   "source": [
    "Refinement Info From Panddas table"
   ]
  },
  {
   "cell_type": "code",
   "execution_count": 134,
   "metadata": {},
   "outputs": [
    {
     "name": "stdout",
     "output_type": "stream",
     "text": [
      "Refinement Outcome Labels:  ['2 - PANDDA model', '3 - In Refinement']\n"
     ]
    }
   ],
   "source": [
    "print( \"Refinement Outcome Labels: \", list( set( pandda_df[ \"RefinementOutcome\" ] )))"
   ]
  },
  {
   "cell_type": "markdown",
   "metadata": {},
   "source": [
    "### Task: Filter out rows that mention failed data extraction\n",
    "\n",
    "<ins> Data was Collected </ins>\n",
    "- Requirements:\n",
    "\n",
    "    - Must have been successfully harvested\n",
    "    - Must have been successfully mounted\n",
    "    - Data must have succcessfully been collected \n",
    "\n",
    "<ins> Data was Processed by dimple </ins>\n"
   ]
  },
  {
   "cell_type": "code",
   "execution_count": null,
   "metadata": {},
   "outputs": [],
   "source": [
    "collectedMainDF = main_df[ \n",
    "                    # main_df[ \"HarvestStatus\"] == \"done\"  & \n",
    "                    # main_df[ \"MountingResult\"][:2] == \"OK\" & \n",
    "                    main_df[ \"DataCollectionOutcome\" ] == \"success\"] \n",
    "\n",
    "# Dimple\n",
    "dimpleMainDF = collectedMainDF[\n",
    "                    collectedMainDF[ \"DataProcessingDimpleSuccessful\" ] == \"TRUE\" &\n",
    "                     collectedMainDF[ \"DimpleStatus\" ] == \"finished\"\n",
    "                                    ]\n",
    "\n",
    "failedDimpleMainDF = collectedMainDF[\n",
    "                    collectedMainDF[ \"DataProcessingDimpleSuccessful\" ] != \"TRUE\" \n",
    "]\n",
    "\n",
    "# PanDDA\n",
    "panddaMainDF = dimpleMainDF[\n",
    "                    dimpleMainDF[ \"DimplePANDDAwasRun\" ] == \"TRUE\" &\n",
    "                    dimpleMainDF[ \"DimplePANDDAreject\" ] == \"FALSE\"\n",
    "                            ]\n",
    "failedPanddaMainDF = dimpleMainDF[\n",
    "                    dimpleMainDF[ \"DimplePANDDAwasRun\" ] == \"TRUE\" &\n",
    "                    dimpleMainDF[ \"DimplePANDDAreject\" ] != \"FALSE\"\n",
    "                            ]\n",
    "\n",
    "hitPanddaMainDF = panddaMainDF[ \n",
    "                        panddaMainDF[ \"DimplePANDDAhit\"] == \"TRUE\"\n",
    "                        ]\n",
    "\n",
    "noHitPanddaMainDF = panddaMainDF[ \n",
    "                        panddaMainDF[ \"DimplePANDDAhit\"] != \"TRUE\"\n",
    "                        ]\n",
    "# Refinement\n",
    "refinedMainDF = panddaMainDF[\n",
    "                        panddaMainDF[ \"RefinementOutcome\" ] == \"6 - Deposited\" &\n",
    "                        panddaMainDF[ \"RefinementStatus\" ] == \"finished\"\n",
    "                                ]\n",
    "\n",
    "failedRefineMainDF = panddaMainDF[\n",
    "                        panddaMainDF[ \"RefinementOutcome\" ] == \"7 - Analysed & Rejected\" |\n",
    "                        panddaMainDF[ \"RefinementStatus\" ] == \"failed\"\n",
    "                                ]\n",
    "\n",
    "underRefineMainDF = panddaMainDF[\n",
    "                        panddaMainDF[ \"RefinementOutcome\" ] == \"3 - In Refinement\"\n",
    "                                ]\n",
    "\n",
    "pendingRefineMainDF = panddaMainDF[\n",
    "                        panddaMainDF[ \"RefinementOutcome\" ] == \"1 - Analysis Pending\"\n",
    "                                ]\n",
    "\n",
    "filteredMainDF = dimpleMainDF"
   ]
  },
  {
   "cell_type": "markdown",
   "metadata": {},
   "source": [
    "### Task: Obtain all the Metadata of Interest for filtered\n",
    "\n",
    "Metadata Types:\n",
    "\n",
    "- Protein information\n",
    "    - Protein Name\n",
    "\n",
    "- Compounds Information\n",
    "    - Name of Library of Fragments Used\n",
    "    - Dataset Name\n",
    "    - Binding Affinity Related:\n",
    "        - Compound Concentration (??maybe associated to binding affinity??) -> \"CompoundConcentration\"\n",
    "        - Solvent Fraction () -> \"SolventFraction\"\n",
    "        - -> \"SoakTranferVol \" \n",
    "\n",
    "- Paths of Interest\n",
    "\n",
    "\n",
    "- Experimental Quality Metrics:\n",
    "    "
   ]
  },
  {
   "cell_type": "code",
   "execution_count": null,
   "metadata": {},
   "outputs": [],
   "source": [
    "# Protein\n",
    "proteinNames = filteredMainDF[ \"ProteinName\" ]\n",
    "\n",
    "# Compounds\n",
    "datasetNames = filteredMainDF[\"CrystalName\"]\n",
    "fragLibraryNames = filteredMainDF[ \"LibraryName\"]\n",
    "\n",
    "\n",
    "# Paths of Interest\n",
    "dimplePathRefPDB = filteredMainDF[ \"DimpleReferencePDB\" ]\n",
    "dimplePathMTZ = filteredMainDF[ \"DimplePathToMTZ\" ]\n",
    "dimplePathPDB = filteredMainDF[ \"DimplePathToPDB\" ]\n",
    "\n",
    "panddaPath = filteredMainDF[ \"DimplePANDDApath\" ]\n",
    "\n",
    "refinedPathCIF = refinedMainDF[ \"RefinementCIF\"] # Only existsi if refinementStatus == \"finished\"\n",
    "refinedPathPDB = refinedMainDF[ \"RefinementPDB_latest\"] # Only existsi if refinementStatus == \"finished\"\n",
    "refinedPathMTZ = refinedMainDF[ \"RefinementMTZ_latest\"] # Only existsi if refinementStatus == \"finished\"\n",
    "mmCIFPathModel = refinedMainDF[ \"RefinementMMCIFmodel_latest\"] # Only existsi if refinementStatus == \"finished\"\n",
    "mmCIFPathSF = refinedMainDF[ \"RefinementMMCIFreflections_latest\"] # Only existsi if refinementStatus == \"finished\"\n",
    "\n",
    "\n",
    "# Experimental Quality Metrics\n",
    "\n",
    "    # Autoprocessing \n",
    "highResolution = filteredMainDF[ \"DataProcessingResolutionHigh\" ]\n",
    "lowResolution = filteredMainDF[\"DataProcessingResolutionLow\"]\n",
    "rMerge = filteredMainDF[\"DataProcessingRmergeOverall\"]\n",
    "rMergeHigh = filteredMainDF[\"DataProcessingRmergeHigh\"]\n",
    "rMergeLow = filteredMainDF[\"DataProcessingRmergeLow\"]\n",
    "Isig = filteredMainDF[\"DataProcessingIsigOverall\"]\n",
    "IsigHigh = filteredMainDF[\"DataProcessingIsigHigh\"]\n",
    "IsigLow = filteredMainDF[\"DataProcessingIsigLow\"]\n",
    "completeness = filteredMainDF[\"DataProcessingCompletenessOverall\"]\n",
    "completenessHigh = filteredMainDF[\"DataProcessingCompletenessHigh\"]\n",
    "completenessLow = filteredMainDF[\"DataProcessingCompletenessLow\"]\n",
    "ccHalf = filteredMainDF[\"DataProcessingCChalfOverall\"]\n",
    "ccHalfHigh = filteredMainDF[\"DataProcessingCChalfHigh\"]\n",
    "ccHalfLow = filteredMainDF[\"DataProcessingCChalfLow\"]\n",
    "    # Dimple\n",
    "dimpleRcrys = filteredMainDF[ \"DimpleRcryst\" ]\n",
    "dimpleRfree = filteredMainDF[ \"DimpleRfree\" ]\n",
    "    # Pandda\n",
    "\n",
    "# filteredMainDF[ \"\" ]"
   ]
  },
  {
   "cell_type": "markdown",
   "metadata": {},
   "source": [
    "---"
   ]
  },
  {
   "cell_type": "markdown",
   "metadata": {},
   "source": [
    "## | **Panddas Table** |\n",
    "\n",
    "There are lots data quality information in here:\n",
    "\n",
    "- PANDDA_site_occupancy\n",
    "\n",
    "- PANDDA_site_B_average\n",
    "\n",
    "- PANDDA_site_B_ratio_residue_surroundings\n",
    "\n",
    "- PANDDA_site_RSCC (Real Space Correlation Coefficient)\n",
    "\n",
    "- PANDDA_site_RSR (Real Space Residuals)\n",
    "\n",
    "- \n",
    "\n",
    "- <ins>Events Site Confidence</ins>: PANDDA_site_confidence (Low, Medium, High),  \n",
    "\n",
    "Resources:\n",
    "\n",
    "- [RSCC, RSR, and RSZO](https://www.ccp4.ac.uk/html/edstats.html)"
   ]
  },
  {
   "cell_type": "code",
   "execution_count": 138,
   "metadata": {},
   "outputs": [
    {
     "name": "stdout",
     "output_type": "stream",
     "text": [
      "Total number of pandas models:  832\n",
      "All pandda hits mentioned in the main table match all the datapoint in Pandda Table\n"
     ]
    }
   ],
   "source": [
    "print(\"Total number of pandas models: \", len( list( set( pandda_df[ \"CrystalName\" ] ))))\n",
    "print(\"All pandda hits mentioned in the main table match all the datapoint in Pandda Table!\") if set(crys_panddahit) ==  set( pandda_df[ \"CrystalName\" ] ) else print(\"Mismatch between main table and pandda table\")"
   ]
  },
  {
   "cell_type": "markdown",
   "metadata": {},
   "source": [
    "<ins> Ligand Placement and Site Evaluation </ins>\n",
    "\n",
    "\"PANDDA_site_ligand_placed\" - Must be manually ticked by the user, no matter whether the placing was done by the user or panddas\n",
    "\n",
    "\"PANDDA_site_viewed\" - \n",
    "\n",
    "\"PANNDA_site_interesting\" - Must be manually ticked by the user as True"
   ]
  },
  {
   "cell_type": "code",
   "execution_count": 141,
   "metadata": {},
   "outputs": [
    {
     "name": "stdout",
     "output_type": "stream",
     "text": [
      "Total number of pandas models:  ['True', 'False']\n"
     ]
    }
   ],
   "source": [
    "print(\"Total number of pandas models: \",  list( set( pandda_df[ \"PANDDA_site_ligand_placed\" ] )))"
   ]
  },
  {
   "cell_type": "markdown",
   "metadata": {},
   "source": [
    "\n",
    "\n",
    "## | **Collection Table** |\n",
    "\n",
    "Has more information about the data collection all the autoprocessing that was used and metrics associated with each autoprocessing\n",
    "\n",
    "There are lots data quality information in here:\n",
    "\n",
    "- <ins>Score</ins>: DataProcessingScore, \n",
    "\n",
    "- <ins>UniqueReflections</ins>: DataProcessingUniqueReflectionsOverall, DataProcessingUniqueReflectionsLow, DataProcessingUniqueReflectionsHigh, \n",
    "\n",
    "- <ins>CChalf</ins>: DataProcessingCChalfOverall, DataProcessingCChalfLow, DataProcessingCChalfHigh\n",
    "\n",
    "- <ins>Multiplicity</ins>: DataProcessingMultiplicityOverall, DataProcessingMultiplicityLow, DataProcessingMultiplicityHigh\n",
    "\n",
    "- <ins>Completeness</ins>: DataProcessingCompletenessOverall, DataProcessingCompletenessLow, DataProcessingCompletenessHigh\n",
    "\n",
    "- <ins>Processing</ins>: DataProcessingIsigOverall, DataProcessingIsigLow, DataProcessingIsigHigh \n",
    "\n",
    "- <ins>Rmerge</ins>: DataProcessingRmergeOverall, DataProcessingRmergeLow, DataProcessingRmergeHigh \n",
    "\n",
    "- <ins>Resolution</ins>: DataProcessingResolutionOverall, DataProcessingResolutionLow, DataProcessingResolutionLowInnerShell, DataProcessingResolutionHigh, DataProcessingResolutionHigh15sigma, DataProcessingResolutionHighOuterShell\n",
    "\n",
    "<ins> Data Collection Notes:</ins>\n",
    "\n",
    "Note that there might be more than one data collection run. This means there might be duplicates of the data, if this is not taken in consideration\n",
    "\n",
    "Also, some crystal were reported to be soaked, harvested, mounted and exported to ispyb but data was not collected (E.g. CHIKV_MacB-x0980)\n",
    "\n",
    "DataCollectionRun : There could be more than one run. Here the code it CrystalName_{CollectionRun}"
   ]
  }
 ],
 "metadata": {
  "kernelspec": {
   "display_name": ".venv",
   "language": "python",
   "name": "python3"
  },
  "language_info": {
   "codemirror_mode": {
    "name": "ipython",
    "version": 3
   },
   "file_extension": ".py",
   "mimetype": "text/x-python",
   "name": "python",
   "nbconvert_exporter": "python",
   "pygments_lexer": "ipython3",
   "version": "3.11.5"
  }
 },
 "nbformat": 4,
 "nbformat_minor": 2
}
