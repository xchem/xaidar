{
 "cells": [
  {
   "cell_type": "markdown",
   "id": "7e3bd526",
   "metadata": {},
   "source": [
    "<p align=\"center\"> ICAT GateWay API - Access XChem Data Archive </p>\n",
    "\n",
    "## Intro\n",
    "\n",
    "There seems to be a way to access the archive data through an API. Before there seemed to be an API at a lower level, but it seems that there is one at a higher level: [link](https://icat.diamond.ac.uk/datagateway-api/).\n",
    "\n",
    "<details>\n",
    "<summary>Resources:</summary>\n",
    "\n",
    "- [Diamond ICAT Main Page]( https://icat.diamond.ac.uk)\n",
    "- [ API Main Page]( https://icat.diamond.ac.uk/datagateway-api)\n",
    "- [ icat documentation](https://repo.icatproject.org/)\n",
    "    - [more details]( https://repo.icatproject.org/site/icat/server/4.2.1/icat.authentication/apidocs/org/icatproject/authentication/package-summary.html)\n",
    "    \n",
    "\n"
   ]
  },
  {
   "cell_type": "code",
   "execution_count": 1,
   "id": "0ab177ee",
   "metadata": {},
   "outputs": [],
   "source": [
    "import requests\n",
    "import sys\n",
    "sys.path.append( \"..\")"
   ]
  },
  {
   "cell_type": "markdown",
   "id": "b00b6d17",
   "metadata": {},
   "source": [
    "### Ping: \n",
    "\n",
    "- [ GET ]  /datagateway-api/ping "
   ]
  },
  {
   "cell_type": "code",
   "execution_count": 4,
   "id": "fdc8a90e",
   "metadata": {},
   "outputs": [
    {
     "name": "stdout",
     "output_type": "stream",
     "text": [
      "\"DataGateway API OK\"\n",
      "\n"
     ]
    }
   ],
   "source": [
    "response = requests.get( \"https://icat.diamond.ac.uk/datagateway-api/ping\")\n",
    "print( response.text)"
   ]
  },
  {
   "cell_type": "markdown",
   "id": "c38989a4",
   "metadata": {},
   "source": [
    "### Sessions:\n",
    "- [ POST ] /datagateway-api/sessions"
   ]
  },
  {
   "cell_type": "code",
   "execution_count": null,
   "id": "d14246d2",
   "metadata": {},
   "outputs": [
    {
     "name": "stdout",
     "output_type": "stream",
     "text": [
      "<!doctype html>\n",
      "<html lang=en>\n",
      "<title>500 Internal Server Error</title>\n",
      "<h1>Internal Server Error</h1>\n",
      "<p>The server encountered an internal error and was unable to complete your request. Either the server is overloaded or there is an error in the application.</p>\n",
      "\n"
     ]
    }
   ],
   "source": [
    "login = {\n",
    "  \"username\": \"\",\n",
    "  \"password\": \"\",\n",
    "  \"mechanism\": \"ldap\",\n",
    "}\n",
    "\n",
    "response = requests.post( \"https://icat.diamond.ac.uk/datagateway-api/sessions\", json = login )\n",
    "print( response.text )"
   ]
  },
  {
   "cell_type": "code",
   "execution_count": null,
   "id": "193aa1ff",
   "metadata": {},
   "outputs": [],
   "source": []
  }
 ],
 "metadata": {
  "kernelspec": {
   "display_name": "s3db",
   "language": "python",
   "name": "python3"
  },
  "language_info": {
   "codemirror_mode": {
    "name": "ipython",
    "version": 3
   },
   "file_extension": ".py",
   "mimetype": "text/x-python",
   "name": "python",
   "nbconvert_exporter": "python",
   "pygments_lexer": "ipython3",
   "version": "3.13.0"
  }
 },
 "nbformat": 4,
 "nbformat_minor": 5
}
